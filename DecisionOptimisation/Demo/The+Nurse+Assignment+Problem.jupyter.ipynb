{
 "cells": [
  {
   "cell_type": "markdown",
   "metadata": {
    "deletable": true,
    "editable": true
   },
   "source": [
    "# The Nurse Assignment Problem\n",
    "\n",
    "This tutorial includes everything you need to set up IBM Decision Optimization CPLEX Modeling for Python (DOcplex), build a Mathematical Programming model, and get its solution by solving the model on the cloud with IBM ILOG CPLEX Optimizer.\n",
    "\n",
    "This notebook runs on Python 2 with Spark 2.1.\n",
    "\n",
    "Table of contents:\n",
    "\n",
    "-  [Describe the business problem](#Describe-the-business-problem)\n",
    "*  [How decision optimization (prescriptive analytics) can help](#How--decision-optimization-can-help)\n",
    "*  [Use decision optimization](#Use-decision-optimization)\n",
    "    *  [Step 1: Download the library](#Step-1:-Download-the-library)\n",
    "    *  [Step 2: Set up the engines](#Step-2:-Set-up-the-prescriptive-engine)\n",
    "    -  [Step 3: Model the data](#Step-3:-Model-the-data)\n",
    "    *  [Step 4: Prepare the data](#Step-4:-Prepare-the-data)\n",
    "    -  [Step 5: Set up the prescriptive model](#Step-5:-Set-up-the-prescriptive-model)\n",
    "        * [Define the decision variables](#Define-the-decision-variables)\n",
    "        * [Express the business constraints](#Express-the-business-constraints)\n",
    "        * [Express the objective](#Express-the-objective)\n",
    "        * [Solve with the Decision Optimization solve service](#Solve-with-the-Decision-Optimization-solve-service)\n",
    "    *  [Step 6: Investigate the solution and run an example analysis](#Step-6:-Investigate-the-solution-and-then-run-an-example-analysis)\n",
    "*  [Summary](#Summary)\n",
    "\n",
    "****"
   ]
  },
  {
   "cell_type": "markdown",
   "metadata": {
    "deletable": true,
    "editable": true
   },
   "source": [
    "## Describe the business problem\n",
    "\n",
    "This notebook describes how to use CPLEX Modeling for Python together with *pandas* to\n",
    "manage the assignment of nurses to shifts in a hospital.\n",
    "\n",
    "Nurses must be assigned to hospital shifts in accordance with various skill and staffing constraints.\n",
    "\n",
    "The goal of the model is to find an efficient balance between the different objectives:\n",
    "\n",
    "* Minimize the overall cost of the plan and\n",
    "* Assign shifts as fairly as possible.\n"
   ]
  },
  {
   "cell_type": "markdown",
   "metadata": {
    "deletable": true,
    "editable": true
   },
   "source": [
    "## How  decision optimization can help\n",
    "\n",
    "* Prescriptive analytics (decision optimization) technology recommends actions that are based on desired outcomes.  It takes into account specific scenarios, resources, and knowledge of past and current events. With this insight, your organization can make better decisions and have greater control of business outcomes.  \n",
    "\n",
    "* Prescriptive analytics is the next step on the path to insight-based actions. It creates value through synergy with predictive analytics, which analyzes data to predict future outcomes.  \n",
    "\n",
    "* Prescriptive analytics takes that insight to the next level by suggesting the optimal way to handle that future situation. Organizations that can act fast in dynamic conditions and make superior decisions in uncertain environments gain a strong competitive advantage.  \n",
    "<br/>\n",
    "\n",
    "<u>With prescriptive analytics, you can:</u> \n",
    "\n",
    "* Automate the complex decisions and trade-offs to better manage your limited resources.\n",
    "* Take advantage of a future opportunity or mitigate a future risk.\n",
    "* Proactively update recommendations based on changing events.\n",
    "* Meet operational goals, increase customer loyalty, prevent threats and fraud, and optimize business processes."
   ]
  },
  {
   "cell_type": "markdown",
   "metadata": {
    "deletable": true,
    "editable": true
   },
   "source": [
    "## Checking minimum requirements\n",
    "This notebook uses some features of pandas that are available in version 0.17.1 or above."
   ]
  },
  {
   "cell_type": "code",
   "execution_count": null,
   "metadata": {
    "collapsed": true,
    "deletable": true,
    "editable": true
   },
   "outputs": [],
   "source": [
    "import pip\n",
    "REQUIRED_MINIMUM_PANDAS_VERSION = '0.17.1'\n",
    "try:\n",
    "    import pandas as pd\n",
    "    assert pd.__version__ >= REQUIRED_MINIMUM_PANDAS_VERSION\n",
    "except:\n",
    "    raise Exception(\"Version %s or above of Pandas is required to run this notebook\" % REQUIRED_MINIMUM_PANDAS_VERSION)"
   ]
  },
  {
   "cell_type": "markdown",
   "metadata": {
    "deletable": true,
    "editable": true
   },
   "source": [
    "## Use decision optimization"
   ]
  },
  {
   "cell_type": "markdown",
   "metadata": {
    "deletable": true,
    "editable": true
   },
   "source": [
    "### Step 1: Download the library\n",
    "\n",
    "Run the following code to install the Decision Optimization CPLEX Modeling library.  The *DOcplex* library contains the two modeling packages, Mathematical Programming (docplex.mp) and Constraint Programming (docplex.cp)."
   ]
  },
  {
   "cell_type": "code",
   "execution_count": null,
   "metadata": {
    "collapsed": false,
    "deletable": true,
    "editable": true
   },
   "outputs": [],
   "source": [
    "import sys\n",
    "try:\n",
    "    import docplex.mp\n",
    "except:\n",
    "    if hasattr(sys, 'real_prefix'):\n",
    "        #we are in a virtual env.\n",
    "        !pip install docplex \n",
    "    else:\n",
    "        !pip install --user docplex      "
   ]
  },
  {
   "cell_type": "markdown",
   "metadata": {
    "deletable": true,
    "editable": true
   },
   "source": [
    "### Step 2: Set up the prescriptive engine\n",
    "\n",
    "* Subscribe to the [Decision Optimization on Cloud solve service](https://developer.ibm.com/docloud).\n",
    "* Get the service URL and your personal API key (Client_id) and enter your credentials here:"
   ]
  },
  {
   "cell_type": "code",
   "execution_count": null,
   "metadata": {
    "collapsed": true,
    "deletable": true,
    "editable": true
   },
   "outputs": [],
   "source": [
    "#@hidden_cell\n",
    "url = \"\"\n",
    "key = \"\""
   ]
  },
  {
   "cell_type": "markdown",
   "metadata": {
    "deletable": true,
    "editable": true
   },
   "source": [
    "### Step 3: Model the data\n",
    "\n",
    "The input data consists of several tables:\n",
    "\n",
    "* The Departments table lists all departments in the scope of the assignment.\n",
    "* The Skills table list all skills.\n",
    "* The Shifts table lists all shifts to be staffed. A shift contains a department, a day in the week, plus the start and end times.\n",
    "* The Nurses table lists all nurses, identified by their names.\n",
    "* The NurseSkills table gives the skills of each nurse.\n",
    "* The SkillRequirements table lists the minimum number of persons required for a given department and skill.\n",
    "* The NurseVacations table lists days off for each nurse.\n",
    "* The NurseAssociations table lists pairs of nurses who wish to work together.\n",
    "* The NurseIncompatibilities table lists pairs of nurses who do not want to work together."
   ]
  },
  {
   "cell_type": "markdown",
   "metadata": {
    "deletable": true,
    "editable": true
   },
   "source": [
    "#### Loading data from Excel with pandas\n",
    "\n",
    "We load the data from an Excel file using *pandas*.\n",
    "Each sheet is read into a separate *pandas* DataFrame."
   ]
  },
  {
   "cell_type": "code",
   "execution_count": null,
   "metadata": {
    "collapsed": true,
    "deletable": true,
    "editable": true
   },
   "outputs": [],
   "source": [
    "# This notebook requires pandas to work\n",
    "from io import StringIO\n",
    "import json\n",
    "import pandas as pd\n",
    "from pandas import DataFrame\n",
    "\n",
    "# Make sure that xlrd package, which is a pandas optional dependency, is installed\n",
    "# This package is required for Excel I/O\n",
    "try:\n",
    "    import xlrd\n",
    "except:\n",
    "    if hasattr(sys, 'real_prefix'):\n",
    "        #we are in a virtual env.\n",
    "        !pip install xlrd \n",
    "    else:\n",
    "        !pip install --user xlrd"
   ]
  },
  {
   "cell_type": "code",
   "execution_count": null,
   "metadata": {
    "collapsed": false,
    "deletable": true,
    "editable": true
   },
   "outputs": [],
   "source": [
    "nurse_xls_file = pd.ExcelFile(os.environ['DSX_PROJECT_DIR']+'/datasets/nurses_data.xls')\n",
    "df_skills = nurse_xls_file.parse('Skills')\n",
    "df_depts  = nurse_xls_file.parse('Departments')\n",
    "df_shifts = nurse_xls_file.parse('Shifts')\n",
    "# Rename df_shifts index\n",
    "df_shifts.index.name = 'shiftId'\n",
    "\n",
    "# Index is column 0: name\n",
    "df_nurses = nurse_xls_file.parse('Nurses', header=0, index_col=0)\n",
    "df_nurse_skilles = nurse_xls_file.parse('NurseSkills')\n",
    "df_vacations = nurse_xls_file.parse('NurseVacations')\n",
    "df_associations = nurse_xls_file.parse('NurseAssociations')\n",
    "df_incompatibilities = nurse_xls_file.parse('NurseIncompatibilities')\n",
    "\n",
    "# Display the nurses dataframe\n",
    "print(\"#nurses = {}\".format(len(df_nurses)))\n",
    "print(\"#shifts = {}\".format(len(df_shifts)))\n",
    "print(\"#vacations = {}\".format(len(df_vacations)))"
   ]
  },
  {
   "cell_type": "markdown",
   "metadata": {
    "deletable": true,
    "editable": true
   },
   "source": [
    "In addition, we introduce some extra global data:\n",
    "\n",
    "* The maximum work time for each nurse.\n",
    "* The maximum and minimum number of shifts worked by a nurse in a week."
   ]
  },
  {
   "cell_type": "code",
   "execution_count": null,
   "metadata": {
    "collapsed": true,
    "deletable": true,
    "editable": true
   },
   "outputs": [],
   "source": [
    "# maximum work time (in hours)\n",
    "max_work_time = 40\n",
    "\n",
    "# maximum number of shifts worked in a week.\n",
    "max_nb_shifts = 5"
   ]
  },
  {
   "cell_type": "markdown",
   "metadata": {
    "deletable": true,
    "editable": true
   },
   "source": [
    "Shifts are stored in a separate DataFrame."
   ]
  },
  {
   "cell_type": "code",
   "execution_count": null,
   "metadata": {
    "collapsed": false,
    "deletable": true,
    "editable": true
   },
   "outputs": [],
   "source": [
    "df_shifts"
   ]
  },
  {
   "cell_type": "markdown",
   "metadata": {
    "deletable": true,
    "editable": true
   },
   "source": [
    "### Step 4: Prepare the data\n",
    "\n",
    "We need to precompute additional data for shifts. \n",
    "For each shift, we need the start time and end time expressed in hours, counting from the beginning of the week: Monday 8am is converted to 8, Tuesday 8am is converted to 24+8 = 32, and so on.\n",
    "\n",
    "#### Sub-step #1\n",
    "We start by adding an extra column `dow` (day of week) which converts the string \"day\" into an integer in 0..6 (Monday is 0, Sunday is 6)."
   ]
  },
  {
   "cell_type": "code",
   "execution_count": null,
   "metadata": {
    "collapsed": false,
    "deletable": true,
    "editable": true
   },
   "outputs": [],
   "source": [
    "days = [\"monday\", \"tuesday\", \"wednesday\", \"thursday\", \"friday\", \"saturday\", \"sunday\"]\n",
    "day_of_weeks = dict(zip(days, range(7)))\n",
    "\n",
    "# utility to convert a day string e.g. \"Monday\" to an integer in 0..6\n",
    "def day_to_day_of_week(day):\n",
    "    return day_of_weeks[day.strip().lower()]\n",
    "\n",
    "# for each day name, we normalize it by stripping whitespace and converting it to lowercase\n",
    "# \" Monday\" -> \"monday\"\n",
    "df_shifts[\"dow\"] = df_shifts.day.apply(day_to_day_of_week)\n",
    "df_shifts"
   ]
  },
  {
   "cell_type": "markdown",
   "metadata": {
    "deletable": true,
    "editable": true
   },
   "source": [
    "#### Sub-step #2 : Compute the absolute start time of each shift.\n",
    "\n",
    "Computing the start time in the week is easy: just add `24*dow` to column `start_time`. The result is stored in a new column `wstart`."
   ]
  },
  {
   "cell_type": "code",
   "execution_count": null,
   "metadata": {
    "collapsed": true,
    "deletable": true,
    "editable": true
   },
   "outputs": [],
   "source": [
    "df_shifts[\"wstart\"] = df_shifts.start_time + 24 * df_shifts.dow"
   ]
  },
  {
   "cell_type": "markdown",
   "metadata": {
    "deletable": true,
    "editable": true
   },
   "source": [
    "#### Sub-Step #3 : Compute the absolute end time of each shift.\n",
    "\n",
    "Computing the absolute end time is a little more complicated as certain shifts span across midnight. For example, Shift #3 starts on Monday at 18:00 and ends Tuesday at 2:00 AM. The absolute end time of Shift #3 is 26, not 2.\n",
    "The general rule for computing absolute end time is:\n",
    "\n",
    "`abs_end_time = end_time + 24 * dow + (start_time>= end_time ? 24 : 0)`\n",
    "\n",
    "Again, we use *pandas* to add a new calculated column `wend`. This is done by using the *pandas* `apply` method with an anonymous `lambda` function over rows. The `raw=True` parameter prevents the creation of a *pandas* Series for each row, which improves the performance significantly on large data sets."
   ]
  },
  {
   "cell_type": "code",
   "execution_count": null,
   "metadata": {
    "collapsed": true,
    "deletable": true,
    "editable": true
   },
   "outputs": [],
   "source": [
    "# an auxiliary function to calculate absolute end time of a shift\n",
    "def calculate_absolute_endtime(start, end, dow):\n",
    "    return 24*dow + end + (24 if start>=end else 0)\n",
    "\n",
    "# store the results in a new column\n",
    "df_shifts[\"wend\"] = df_shifts.apply(lambda row: calculate_absolute_endtime(\n",
    "        row.start_time, row.end_time, row.dow), axis=1, raw=True)"
   ]
  },
  {
   "cell_type": "markdown",
   "metadata": {
    "deletable": true,
    "editable": true
   },
   "source": [
    "#### Sub-step #4 : Compute the duration of each shift.\n",
    "\n",
    "Computing the duration of each shift is now a straightforward difference of columns. The result is stored in column `duration`."
   ]
  },
  {
   "cell_type": "code",
   "execution_count": null,
   "metadata": {
    "collapsed": true,
    "deletable": true,
    "editable": true
   },
   "outputs": [],
   "source": [
    "df_shifts[\"duration\"] = df_shifts.wend - df_shifts.wstart"
   ]
  },
  {
   "cell_type": "markdown",
   "metadata": {
    "deletable": true,
    "editable": true
   },
   "source": [
    "#### Sub-step #5 : Compute the minimum demand for each shift.\n",
    "\n",
    "Minimum demand is the product of duration (in hours) by the minimum required number of nurses. Thus, in number of \n",
    "nurse-hours, this demand is stored in another new column `min_demand`.\n",
    "\n",
    "Finally, we display the updated shifts DataFrame with all calculated columns."
   ]
  },
  {
   "cell_type": "code",
   "execution_count": null,
   "metadata": {
    "collapsed": false,
    "deletable": true,
    "editable": true
   },
   "outputs": [],
   "source": [
    "# also compute minimum demand in nurse-hours\n",
    "df_shifts[\"min_demand\"] = df_shifts.min_req * df_shifts.duration\n",
    "\n",
    "# finally check the modified shifts dataframe\n",
    "df_shifts"
   ]
  },
  {
   "cell_type": "markdown",
   "metadata": {
    "deletable": true,
    "editable": true
   },
   "source": [
    "### Step 5: Set up the prescriptive model"
   ]
  },
  {
   "cell_type": "code",
   "execution_count": null,
   "metadata": {
    "collapsed": false,
    "deletable": true,
    "editable": true
   },
   "outputs": [],
   "source": [
    "from docplex.mp.environment import Environment\n",
    "env = Environment()\n",
    "env.print_information()"
   ]
  },
  {
   "cell_type": "markdown",
   "metadata": {
    "deletable": true,
    "editable": true
   },
   "source": [
    "#### Create the DOcplex model\n",
    "The model contains all the business constraints and defines the objective.\n",
    "\n",
    "We now use CPLEX Modeling for Python to build a Mixed Integer Programming (MIP) model for this problem."
   ]
  },
  {
   "cell_type": "code",
   "execution_count": null,
   "metadata": {
    "collapsed": true,
    "deletable": true,
    "editable": true
   },
   "outputs": [],
   "source": [
    "from docplex.mp.model import Model\n",
    "mdl = Model(name=\"nurses\")"
   ]
  },
  {
   "cell_type": "markdown",
   "metadata": {
    "deletable": true,
    "editable": true
   },
   "source": [
    "#### Define the decision variables\n",
    "\n",
    "For each (nurse, shift) pair, we create one binary variable that is equal to 1 when the nurse is assigned to the shift.\n",
    "\n",
    "We use the `binary_var_matrix` method of class `Model`, as each binary variable is indexed by _two_ objects: one nurse and one shift."
   ]
  },
  {
   "cell_type": "code",
   "execution_count": null,
   "metadata": {
    "collapsed": true,
    "deletable": true,
    "editable": true
   },
   "outputs": [],
   "source": [
    "# first global collections to iterate upon\n",
    "all_nurses = df_nurses.index.values\n",
    "all_shifts = df_shifts.index.values\n",
    "\n",
    "# the assignment variables.\n",
    "assigned = mdl.binary_var_matrix(keys1=all_nurses, keys2=all_shifts, name=\"assign_%s_%s\")"
   ]
  },
  {
   "cell_type": "markdown",
   "metadata": {
    "deletable": true,
    "editable": true
   },
   "source": [
    "#### Express the business constraints\n",
    "\n",
    "#####  Overlapping shifts\n",
    "\n",
    "Some shifts overlap in time, and thus cannot be assigned to the same nurse.\n",
    "To check whether two shifts overlap in time, we start by ordering all shifts with respect to their *wstart* and *duration* properties. Then, for each shift, we iterate over the subsequent shifts in this ordered list to easily compute the subset of overlapping shifts.\n",
    "\n",
    "We use *pandas* operations to implement this algorithm. But first, we organize all decision variables in a DataFrame.\n",
    "\n",
    "For convenience, we also organize the decision variables in a pivot table with *nurses* as row index and *shifts* as columns. The *pandas* *unstack* operation does this."
   ]
  },
  {
   "cell_type": "code",
   "execution_count": null,
   "metadata": {
    "collapsed": false,
    "deletable": true,
    "editable": true
   },
   "outputs": [],
   "source": [
    "# Organize decision variables in a DataFrame\n",
    "df_assigned = DataFrame({'assigned': assigned})\n",
    "df_assigned.index.names=['all_nurses', 'all_shifts']\n",
    "\n",
    "# Re-organize the Data Frame as a pivot table with nurses as row index and shifts as columns:\n",
    "df_assigned_pivot = df_assigned.unstack(level='all_shifts')\n",
    "\n",
    "# Create a pivot using nurses and shifts index as dimensions\n",
    "#df_assigned_pivot = df_assigned.reset_index().pivot(index='all_nurses', columns='all_shifts', values='assigned')\n",
    "\n",
    "# Display first rows of the pivot table\n",
    "df_assigned_pivot.head()"
   ]
  },
  {
   "cell_type": "markdown",
   "metadata": {
    "deletable": true,
    "editable": true
   },
   "source": [
    "We create a DataFrame representing a list of shifts sorted by *\"wstart\"* and *\"duration\"*.\n",
    "This sorted list will be used to easily detect overlapping shifts.\n",
    "\n",
    "Note that indices are reset after sorting so that the DataFrame can be indexed with respect to\n",
    "the index in the sorted list and not the original unsorted list. This is the purpose of the *reset_index()*\n",
    "operation which also adds a new column named *\"shiftId\"* with the original index."
   ]
  },
  {
   "cell_type": "code",
   "execution_count": null,
   "metadata": {
    "collapsed": false,
    "deletable": true,
    "editable": true
   },
   "outputs": [],
   "source": [
    "# Create a Data Frame representing a list of shifts sorted by wstart and duration.\n",
    "# One keeps only the three relevant columns: 'shiftId', 'wstart' and 'wend' in the resulting Data Frame \n",
    "df_sorted_shifts = df_shifts.sort_values(['wstart','duration']).reset_index()[['shiftId', 'wstart', 'wend']]\n",
    "\n",
    "# Display the first rows of the newly created Data Frame\n",
    "df_sorted_shifts.head()"
   ]
  },
  {
   "cell_type": "markdown",
   "metadata": {
    "deletable": true,
    "editable": true
   },
   "source": [
    "Next, we state that for any pair of shifts that overlap in time, a nurse can be assigned to only one of the two."
   ]
  },
  {
   "cell_type": "code",
   "execution_count": null,
   "metadata": {
    "collapsed": false,
    "deletable": true,
    "editable": true
   },
   "outputs": [],
   "source": [
    "number_of_incompatible_shift_constraints = 0\n",
    "for shift in df_sorted_shifts.itertuples():\n",
    "    # Iterate over following shifts\n",
    "    # 'shift[0]' contains the index of the current shift in the df_sorted_shifts Data Frame\n",
    "    for shift_2 in df_sorted_shifts.iloc[shift[0] + 1:].itertuples():\n",
    "        if (shift_2.wstart < shift.wend):\n",
    "            # Iterate over all nurses to force incompatible assignment for the current pair of overlapping shifts\n",
    "            for nurse_assignments in df_assigned_pivot.iloc[:,[shift.shiftId, shift_2.shiftId]].itertuples():\n",
    "                # this is actually a logical OR\n",
    "                #print(nurse_assignments[1], nurse_assignments[2])\n",
    "                mdl.add_constraint(nurse_assignments[1] + nurse_assignments[2] <= 1)\n",
    "                number_of_incompatible_shift_constraints += 1\n",
    "        else:\n",
    "            # No need to test overlap with following shifts\n",
    "            break\n",
    "print(\"#incompatible shift constraints: {}\".format(number_of_incompatible_shift_constraints))"
   ]
  },
  {
   "cell_type": "markdown",
   "metadata": {
    "deletable": true,
    "editable": true
   },
   "source": [
    "##### Vacations\n",
    "\n",
    "When the nurse is on vacation, he cannot be assigned to any shift starting that day.\n",
    "\n",
    "We use the *pandas* *merge* operation to create a join between the *\"df_vacations\"*, *\"df_shifts\"*, and *\"df_assigned\"* DataFrames. Each row of the resulting DataFrame contains the assignment decision variable corresponding to the matching (nurse, shift) pair."
   ]
  },
  {
   "cell_type": "code",
   "execution_count": null,
   "metadata": {
    "collapsed": false,
    "deletable": true,
    "editable": true
   },
   "outputs": [],
   "source": [
    "# Add 'day of week' column to vacations Data Frame\n",
    "df_vacations['dow'] = df_vacations.day.apply(day_to_day_of_week)\n",
    "\n",
    "# Join 'df_vacations', 'df_shifts' and 'df_assigned' Data Frames to create the list of 'forbidden' assigments.\n",
    "# The 'reset_index()' function is invoked to move 'shiftId' index as a column in 'df_shifts' Data Frame, and\n",
    "# to move the index pair ('all_nurses', 'all_shifts') as columns in 'df_assigned' Data Frame.\n",
    "# 'reset_index()' is invoked so that a join can be performed between Data Frame, based on column names.\n",
    "df_assigned_reindexed = df_assigned.reset_index()\n",
    "df_vacation_forbidden_assignments = df_vacations.merge(df_shifts.reset_index()[['dow', 'shiftId']]).merge(\n",
    "    df_assigned_reindexed, left_on=['nurse', 'shiftId'], right_on=['all_nurses', 'all_shifts'])\n",
    "\n",
    "# Here are the first few rows of the resulting Data Frames joins\n",
    "df_vacation_forbidden_assignments.head()"
   ]
  },
  {
   "cell_type": "code",
   "execution_count": null,
   "metadata": {
    "collapsed": false,
    "deletable": true,
    "editable": true
   },
   "outputs": [],
   "source": [
    "for forbidden_assignment in df_vacation_forbidden_assignments.itertuples():\n",
    "    # to forbid an assignment just set the variable to zero.\n",
    "    mdl.add_constraint(forbidden_assignment.assigned == 0)\n",
    "print(\"# vacation forbids: {} assignments\".format(len(df_vacation_forbidden_assignments)))"
   ]
  },
  {
   "cell_type": "markdown",
   "metadata": {
    "deletable": true,
    "editable": true
   },
   "source": [
    "##### Associations\n",
    "\n",
    "Some pairs of nurses get along particularly well, so we wish to assign them together as a team. In other words, for every such couple and for each shift, both assignment variables should always be equal.\n",
    "Either both nurses work the shift, or both do not.\n",
    "\n",
    "In the same way we modeled *vacations*, we use the *pandas* merge operation to create a DataFrame for which each row contains the pair of nurse-shift assignment decision variables matching each association."
   ]
  },
  {
   "cell_type": "code",
   "execution_count": null,
   "metadata": {
    "collapsed": false,
    "deletable": true,
    "editable": true
   },
   "outputs": [],
   "source": [
    "# Join 'df_assignment' Data Frame twice, based on associations to get corresponding decision variables pairs for all shifts\n",
    "# The 'suffixes' parameter in the second merge indicates our preference for updating the name of columns that occur both\n",
    "# in the first and second argument Data Frames (in our case, these columns are 'all_nurses' and 'assigned').\n",
    "df_preferred_assign = df_associations.merge(\n",
    "    df_assigned_reindexed, left_on='nurse1', right_on='all_nurses').merge(\n",
    "    df_assigned_reindexed, left_on=['nurse2', 'all_shifts'], right_on=['all_nurses', 'all_shifts'], suffixes=('_1','_2'))\n",
    "\n",
    "# Here are the first few rows of the resulting Data Frames joins\n",
    "df_preferred_assign.head()"
   ]
  },
  {
   "cell_type": "markdown",
   "metadata": {
    "deletable": true,
    "editable": true
   },
   "source": [
    "The associations constraint can now easily be formulated by iterating on the rows of the *\"df_preferred_assign\"* DataFrame."
   ]
  },
  {
   "cell_type": "code",
   "execution_count": null,
   "metadata": {
    "collapsed": true,
    "deletable": true,
    "editable": true
   },
   "outputs": [],
   "source": [
    "for preferred_assign in df_preferred_assign.itertuples():\n",
    "    mdl.add_constraint(preferred_assign.assigned_1 == preferred_assign.assigned_2)"
   ]
  },
  {
   "cell_type": "markdown",
   "metadata": {
    "deletable": true,
    "editable": true
   },
   "source": [
    "##### Incompatibilities\n",
    "\n",
    "Similarly, certain pairs of nurses do not get along well, and we want to avoid having them together on a shift.\n",
    "In other terms, for each shift, both nurses of an incompatible pair cannot be assigned together to the sift. Again, we state a logical OR between the two assignments: at most one nurse from the pair can work the shift.\n",
    "\n",
    "We first create a DataFrame whose rows contain pairs of invalid assignment decision variables, using the same *pandas* `merge` operations as in the previous step."
   ]
  },
  {
   "cell_type": "code",
   "execution_count": null,
   "metadata": {
    "collapsed": false,
    "deletable": true,
    "editable": true
   },
   "outputs": [],
   "source": [
    "# Join assignment Data Frame twice, based on incompatibilities Data Frame to get corresponding decision variables pairs\n",
    "#  for all shifts\n",
    "df_incompatible_assign = df_incompatibilities.merge(\n",
    "    df_assigned_reindexed, left_on='nurse1', right_on='all_nurses').merge(\n",
    "    df_assigned_reindexed, left_on=['nurse2', 'all_shifts'], right_on=['all_nurses', 'all_shifts'], suffixes=('_1','_2'))\n",
    "\n",
    "# Here are the first few rows of the resulting Data Frames joins\n",
    "df_incompatible_assign.head()"
   ]
  },
  {
   "cell_type": "markdown",
   "metadata": {
    "deletable": true,
    "editable": true
   },
   "source": [
    "The incompatibilities constraint can now easily be formulated, by iterating on the rows of the *\"df_incompatible_assign\"* DataFrame."
   ]
  },
  {
   "cell_type": "code",
   "execution_count": null,
   "metadata": {
    "collapsed": true,
    "deletable": true,
    "editable": true
   },
   "outputs": [],
   "source": [
    "for incompatible_assign in df_incompatible_assign.itertuples():\n",
    "    mdl.add_constraint(incompatible_assign.assigned_1 + incompatible_assign.assigned_2 <= 1)"
   ]
  },
  {
   "cell_type": "markdown",
   "metadata": {
    "deletable": true,
    "editable": true
   },
   "source": [
    "##### Constraints on work time\n",
    "\n",
    "Regulations force constraints on the total work time over a week;\n",
    "and we compute this total work time in a new variable. We store the variable in an extra column in the nurse DataFrame.\n",
    "\n",
    "The variable is declared as _continuous_ though it contains only integer values. This is done to avoid adding unnecessary integer variables for the _branch and bound_ algorithm. \n",
    "These variables are not true decision variables; they are used to express work constraints.\n",
    "\n",
    "From a *pandas* perspective, we apply a function over the rows of the nurse DataFrame to create this variable and store it into a new column of the DataFrame."
   ]
  },
  {
   "cell_type": "code",
   "execution_count": null,
   "metadata": {
    "collapsed": false,
    "deletable": true,
    "editable": true
   },
   "outputs": [],
   "source": [
    "# auxiliary function to create worktime variable from a row\n",
    "def make_var(row, varname_fmt):\n",
    "    return mdl.continuous_var(name=varname_fmt % row.name, lb=0)\n",
    "\n",
    "# apply the function over nurse rows and store result in a new column\n",
    "df_nurses[\"worktime\"] = df_nurses.apply(lambda r: make_var(r, \"worktime_%s\"), axis=1)\n",
    "\n",
    "# display nurse dataframe\n",
    "df_nurses"
   ]
  },
  {
   "cell_type": "markdown",
   "metadata": {
    "deletable": true,
    "editable": true
   },
   "source": [
    "###### Define total work time\n",
    "\n",
    "Work time variables must be constrained to be equal to the sum of hours actually worked.\n",
    "\n",
    "We use the *pandas* *groupby* operation to collect all assignment decision variables for each nurse in a separate series. Then, we iterate over nurses to post a constraint calculating the actual worktime for each nurse as the dot product of the series of nurse-shift assignments with the series of shift durations."
   ]
  },
  {
   "cell_type": "code",
   "execution_count": null,
   "metadata": {
    "collapsed": false,
    "deletable": true,
    "editable": true
   },
   "outputs": [],
   "source": [
    "# Use pandas' groupby operation to enforce constraint calculating worktime for each nurse as the sum of all assigned\n",
    "#  shifts times the duration of each shift\n",
    "for nurse, nurse_assignments in df_assigned.groupby(level='all_nurses'):\n",
    "    mdl.add_constraint(df_nurses.worktime[nurse] == mdl.dot(nurse_assignments.assigned, df_shifts.duration))\n",
    "                       \n",
    "# print model information and check we now have 32 extra continuous variables\n",
    "mdl.print_information()"
   ]
  },
  {
   "cell_type": "markdown",
   "metadata": {
    "deletable": true,
    "editable": true
   },
   "source": [
    "###### Maximum work time\n",
    "\n",
    "For each nurse, we add a constraint to enforce the maximum work time for a week.\n",
    "Again we use the `apply` method, this time with an anonymous lambda function."
   ]
  },
  {
   "cell_type": "code",
   "execution_count": null,
   "metadata": {
    "collapsed": false,
    "deletable": true,
    "editable": true
   },
   "outputs": [],
   "source": [
    "# we use pandas' apply() method to set an upper bound on all worktime variables.\n",
    "def set_max_work_time(v):\n",
    "    v.ub = max_work_time\n",
    "    # Optionally: return a string for fancy display of the constraint in the Output cell\n",
    "    return str(v) + ' <= ' + str(v.ub)\n",
    "\n",
    "df_nurses[\"worktime\"].apply(convert_dtype=False, func=set_max_work_time)"
   ]
  },
  {
   "cell_type": "markdown",
   "metadata": {
    "deletable": true,
    "editable": true
   },
   "source": [
    "##### Minimum requirement for shifts\n",
    "\n",
    "Each shift requires a minimum number of nurses. \n",
    "For each shift, the sum over all nurses of assignments to this shift\n",
    "must be greater than the minimum requirement.\n",
    "\n",
    "The *pandas* *groupby* operation is invoked to collect all assignment decision variables for each shift in a separate series. Then, we iterate over shifts to post the constraint enforcing the minimum number of nurse assignments for each shift."
   ]
  },
  {
   "cell_type": "code",
   "execution_count": null,
   "metadata": {
    "collapsed": true,
    "deletable": true,
    "editable": true
   },
   "outputs": [],
   "source": [
    "# Use pandas' groupby operation to enforce minimum requirement constraint for each shift\n",
    "for shift, shift_nurses in df_assigned.groupby(level='all_shifts'):\n",
    "    mdl.add_constraint(mdl.sum(shift_nurses.assigned) >= df_shifts.min_req[shift])"
   ]
  },
  {
   "cell_type": "markdown",
   "metadata": {
    "deletable": true,
    "editable": true
   },
   "source": [
    "#### Express the objective\n",
    "\n",
    "The objective mixes different (and contradictory) KPIs. \n",
    "\n",
    "The first KPI is the total salary cost, computed as the sum of work times over all nurses, weighted by pay rate.\n",
    "\n",
    "We compute this KPI as an expression from the variables we previously defined by using the panda summation over the DOcplex objects."
   ]
  },
  {
   "cell_type": "code",
   "execution_count": null,
   "metadata": {
    "collapsed": false,
    "deletable": true,
    "editable": true
   },
   "outputs": [],
   "source": [
    "# again leverage pandas to create a series of expressions: costs of each nurse\n",
    "total_salary_series = df_nurses.worktime * df_nurses.pay_rate\n",
    "\n",
    "# compute global salary cost using pandas sum()\n",
    "# Note that the result is a DOcplex expression: DOcplex if fully compatible with pandas\n",
    "total_salary_cost = total_salary_series.sum()\n",
    "mdl.add_kpi(total_salary_cost, \"Total salary cost\")"
   ]
  },
  {
   "cell_type": "markdown",
   "metadata": {
    "deletable": true,
    "editable": true
   },
   "source": [
    "##### Minimizing salary cost\n",
    "\n",
    "In a preliminary version of the model, we minimize the total salary cost. This is accomplished\n",
    "using the `Model.minimize()` method."
   ]
  },
  {
   "cell_type": "code",
   "execution_count": null,
   "metadata": {
    "collapsed": false,
    "deletable": true,
    "editable": true
   },
   "outputs": [],
   "source": [
    "mdl.minimize(total_salary_cost)\n",
    "mdl.print_information()"
   ]
  },
  {
   "cell_type": "markdown",
   "metadata": {
    "deletable": true,
    "editable": true
   },
   "source": [
    "#### Solve with the Decision Optimization solve service\n",
    "\n",
    "Now we have everything we need to solve the model, using `Model.solve()`. The following cell solves using your local CPLEX (if any, and provided you have added it to your `PYTHONPATH` variable). \n",
    "If you do not have CPLEX installed, please enter your DOcplexcloud credentials below in the `key` and `url` fields in order to solve on DOcplexcloud."
   ]
  },
  {
   "cell_type": "code",
   "execution_count": null,
   "metadata": {
    "collapsed": false,
    "deletable": true,
    "editable": true,
    "scrolled": false
   },
   "outputs": [],
   "source": [
    "# Set Cplex mipgap to 1e-5 to enforce precision to be of the order of a unit (objective value magnitude is ~1e+5).\n",
    "mdl.parameters.mip.tolerances.mipgap = 1e-5\n",
    "\n",
    "s = mdl.solve(url=url, key=key, log_output=True)\n",
    "assert s, \"solve failed\"\n",
    "mdl.report()"
   ]
  },
  {
   "cell_type": "markdown",
   "metadata": {
    "deletable": true,
    "editable": true
   },
   "source": [
    "### Step 6: Investigate the solution and then run an example analysis\n",
    "\n",
    "We take advantage of *pandas* to analyze the results. First we store the solution values of the assignment variables into a new *pandas* Series.\n",
    "\n",
    "Calling `solution_value` on a DOcplex variable returns its value in the solution (provided the model has been successfully solved)."
   ]
  },
  {
   "cell_type": "code",
   "execution_count": null,
   "metadata": {
    "collapsed": false,
    "deletable": true,
    "editable": true,
    "scrolled": false
   },
   "outputs": [],
   "source": [
    "# Create a pandas Series containing actual shift assignment decision variables value\n",
    "s_assigned = df_assigned.assigned.apply(lambda v: v.solution_value)\n",
    "\n",
    "# Create a pivot table by (nurses, shifts), using pandas' \"unstack\" method to transform the 'all_shifts' row index\n",
    "#  into columns\n",
    "df_res = s_assigned.unstack(level='all_shifts')\n",
    "\n",
    "# Display the first few rows of the resulting pivot table\n",
    "df_res.head()"
   ]
  },
  {
   "cell_type": "markdown",
   "metadata": {
    "deletable": true,
    "editable": true
   },
   "source": [
    "#### Analyzing how worktime is distributed\n",
    "\n",
    "Let's analyze how worktime is distributed among nurses. \n",
    "\n",
    "First, we compute the global average work time as the total minimum requirement in hours, divided by number of nurses."
   ]
  },
  {
   "cell_type": "code",
   "execution_count": null,
   "metadata": {
    "collapsed": false,
    "deletable": true,
    "editable": true
   },
   "outputs": [],
   "source": [
    "s_demand  = df_shifts.min_req * df_shifts.duration\n",
    "total_demand = s_demand.sum()\n",
    "avg_worktime = total_demand / float(len(all_nurses))\n",
    "print(\"* theoretical average work time is {0:g} h\".format(avg_worktime))"
   ]
  },
  {
   "cell_type": "markdown",
   "metadata": {
    "deletable": true,
    "editable": true
   },
   "source": [
    "Let's analyze the series of deviations to the average, stored in a *pandas* Series."
   ]
  },
  {
   "cell_type": "code",
   "execution_count": null,
   "metadata": {
    "collapsed": false,
    "deletable": true,
    "editable": true
   },
   "outputs": [],
   "source": [
    "# a pandas series of worktimes solution values\n",
    "s_worktime = df_nurses.worktime.apply(lambda v: v.solution_value)\n",
    "\n",
    "# returns a new series computed as deviation from average\n",
    "s_to_mean = s_worktime - avg_worktime\n",
    "\n",
    "# take the absolute value\n",
    "s_abs_to_mean = s_to_mean.apply(abs)\n",
    "\n",
    "\n",
    "total_to_mean = s_abs_to_mean.sum()\n",
    "print(\"* the sum of absolute deviations from mean is {}\".format(total_to_mean))"
   ]
  },
  {
   "cell_type": "markdown",
   "metadata": {
    "deletable": true,
    "editable": true
   },
   "source": [
    "To see how work time is distributed among nurses, print a histogram of work time values.\n",
    "Note that, as all time data are integers, work times in the solution can take only integer values."
   ]
  },
  {
   "cell_type": "code",
   "execution_count": null,
   "metadata": {
    "collapsed": false,
    "deletable": true,
    "editable": true
   },
   "outputs": [],
   "source": [
    "import matplotlib.pyplot as plt\n",
    "%matplotlib inline\n",
    "\n",
    "# we can also plot as a histogram the distribution of worktimes\n",
    "s_worktime.plot.hist(color='LightBlue')\n",
    "plt.xlabel(\"worktime\")"
   ]
  },
  {
   "cell_type": "markdown",
   "metadata": {
    "deletable": true,
    "editable": true
   },
   "source": [
    "#### How shifts are distributed\n",
    "\n",
    "Let's now analyze the solution from the _number of shifts_ perspective.\n",
    "How many shifts does each nurse work? Are these shifts fairly distributed amongst nurses?\n",
    "\n",
    "We compute a new column in our result DataFrame for the number of shifts worked,\n",
    "by summing rows (the *\"axis=1\"* argument in the *sum()* call indicates to *pandas* that each sum is performed by row instead of column):"
   ]
  },
  {
   "cell_type": "code",
   "execution_count": null,
   "metadata": {
    "collapsed": false,
    "deletable": true,
    "editable": true
   },
   "outputs": [],
   "source": [
    "# a pandas series of #shifts worked\n",
    "df_worked = df_res[all_shifts].sum(axis=1)\n",
    "df_res[\"worked\"] = df_worked\n",
    "\n",
    "df_worked.plot.hist(color=\"gold\", xlim=(0,10))\n",
    "plt.ylabel(\"#shifts worked\")"
   ]
  },
  {
   "cell_type": "markdown",
   "metadata": {
    "deletable": true,
    "editable": true
   },
   "source": [
    "We see that one nurse works significantly fewer shifts than others do. What is the average number of shifts worked by a nurse? This is equal to the total demand divided by the number of nurses.\n",
    "\n",
    "Of course, this yields a fractional number of shifts that is not practical, but nonetheless will help us quantify\n",
    "the _fairness_ in shift distribution."
   ]
  },
  {
   "cell_type": "code",
   "execution_count": null,
   "metadata": {
    "collapsed": false,
    "deletable": true,
    "editable": true
   },
   "outputs": [],
   "source": [
    "avg_worked = df_shifts[\"min_req\"].sum() / float(len(all_nurses))\n",
    "print(\"-- expected avg #shifts worked is {}\".format(avg_worked))\n",
    "\n",
    "worked_to_avg = df_res[\"worked\"] - avg_worked\n",
    "total_to_mean = worked_to_avg.apply(abs).sum()\n",
    "print(\"-- total absolute deviation to mean #shifts is {}\".format(total_to_mean))"
   ]
  },
  {
   "cell_type": "markdown",
   "metadata": {
    "deletable": true,
    "editable": true
   },
   "source": [
    "### Introducing a fairness goal\n",
    "\n",
    "As the above diagram suggests, the distribution of shifts could be improved.\n",
    "We implement this by adding one extra objective, _fairness_, which balances\n",
    "the shifts assigned over nurses.\n",
    "\n",
    "Note that we can edit the model, that  is add (or remove) constraints, even after it has been solved. \n",
    "\n",
    "### Step #1 : Introduce three new variables per nurse to model the \n",
    "number of shifts worked and positive and negative deviations to the average."
   ]
  },
  {
   "cell_type": "code",
   "execution_count": null,
   "metadata": {
    "collapsed": true,
    "deletable": true,
    "editable": true
   },
   "outputs": [],
   "source": [
    "# add two extra variables per nurse: deviations above and below average\n",
    "df_nurses[\"worked\"]      = df_nurses.apply(lambda r: make_var(r, \"worked%s\"), axis=1)\n",
    "df_nurses[\"overworked\"]  = df_nurses.apply(lambda r: make_var(r, \"overw_%s\"), axis=1)\n",
    "df_nurses[\"underworked\"] = df_nurses.apply(lambda r: make_var(r, \"underw_%s\"), axis=1)"
   ]
  },
  {
   "cell_type": "markdown",
   "metadata": {
    "deletable": true,
    "editable": true
   },
   "source": [
    "### Step #2 : Post the constraint that links these variables together."
   ]
  },
  {
   "cell_type": "code",
   "execution_count": null,
   "metadata": {
    "collapsed": true,
    "deletable": true,
    "editable": true
   },
   "outputs": [],
   "source": [
    "# Use the pandas groupby operation to enforce the constraint calculating number of worked shifts for each nurse\n",
    "for nurse, nurse_assignments in df_assigned.groupby(level='all_nurses'):\n",
    "    # nb of worked shifts is sum of assigned shifts\n",
    "    mdl.add_constraint(df_nurses.worked[nurse] == mdl.sum(nurse_assignments.assigned))\n",
    "\n",
    "for nurse in df_nurses.itertuples():\n",
    "    # nb worked is average + over - under\n",
    "    mdl.add_constraint(nurse.worked == avg_worked + nurse.overworked - nurse.underworked)"
   ]
  },
  {
   "cell_type": "markdown",
   "metadata": {
    "deletable": true,
    "editable": true
   },
   "source": [
    "### Step #3 : Define KPIs to measure the result after solve."
   ]
  },
  {
   "cell_type": "code",
   "execution_count": null,
   "metadata": {
    "collapsed": false,
    "deletable": true,
    "editable": true
   },
   "outputs": [],
   "source": [
    "# finally, define kpis for over and under average quantities\n",
    "total_overw = mdl.sum(df_nurses[\"overworked\"])\n",
    "mdl.add_kpi(total_overw, \"Total over-worked\")\n",
    "total_underw = mdl.sum(df_nurses[\"underworked\"])\n",
    "mdl.add_kpi(total_underw, \"Total under-worked\")"
   ]
  },
  {
   "cell_type": "markdown",
   "metadata": {
    "deletable": true,
    "editable": true
   },
   "source": [
    "Finally, let's modify the objective by adding the sum of `over_worked and under_worked` to the previous objective.\n",
    "\n",
    "**Note:** The definitions of `over_worked` and `under_worked` as described above are not sufficient to give them an unambiguous value. However, as all these variables are minimized, CPLEX ensures that these variables take the minimum possible values in the solution."
   ]
  },
  {
   "cell_type": "code",
   "execution_count": null,
   "metadata": {
    "collapsed": true,
    "deletable": true,
    "editable": true
   },
   "outputs": [],
   "source": [
    "mdl.minimize(total_salary_cost + total_overw + total_underw)  # incorporate over_worked and under_worked in objective"
   ]
  },
  {
   "cell_type": "markdown",
   "metadata": {
    "deletable": true,
    "editable": true
   },
   "source": [
    "Our modified model is ready to solve. Again, enter your DOcplexcloud `url` and `api_key` in the appropriate fields below to solve on DOcplexcloud if you do not have a local CPLEX installation.\n",
    "\n",
    "The `log_output=True` parameter tells CPLEX to print the log on the standard output."
   ]
  },
  {
   "cell_type": "code",
   "execution_count": null,
   "metadata": {
    "collapsed": false,
    "deletable": true,
    "editable": true
   },
   "outputs": [],
   "source": [
    "sol2 = mdl.solve(url=url, key=key, log_output=True)  # solve again and get a new solution\n",
    "assert sol2, \"Solve failed\"\n",
    "mdl.report()"
   ]
  },
  {
   "cell_type": "markdown",
   "metadata": {
    "deletable": true,
    "editable": true
   },
   "source": [
    "### Analyzing new results\n",
    "\n",
    "Let's recompute the new total deviation from average on this new solution."
   ]
  },
  {
   "cell_type": "code",
   "execution_count": null,
   "metadata": {
    "collapsed": false,
    "deletable": true,
    "editable": true
   },
   "outputs": [],
   "source": [
    "# Create a pandas Series containing actual shift assignment decision variables value\n",
    "s_assigned2 = df_assigned.assigned.apply(lambda v: v.solution_value)\n",
    "\n",
    "# Create a pivot table by (nurses, shifts), using pandas' \"unstack\" method to transform the 'all_shifts' row index\n",
    "#  into columns\n",
    "df_res2 = s_assigned2.unstack(level='all_shifts')\n",
    "\n",
    "# Add a new column to the pivot table containing the #shifts worked by summing over each row\n",
    "df_res2[\"worked\"] = df_res2[all_shifts].sum(axis=1)\n",
    "\n",
    "# total absolute deviation from average is directly read on expressions\n",
    "new_total_to_mean = total_overw.solution_value + total_underw.solution_value\n",
    "print(\"-- total absolute deviation to mean #shifts is now {0} down from {1}\".format(new_total_to_mean, total_to_mean))\n",
    "\n",
    "# Display the first few rows of the result Data Frame\n",
    "df_res2.head()"
   ]
  },
  {
   "cell_type": "markdown",
   "metadata": {
    "deletable": true,
    "editable": true
   },
   "source": [
    "Let's print the new histogram of shifts worked."
   ]
  },
  {
   "cell_type": "code",
   "execution_count": null,
   "metadata": {
    "collapsed": false,
    "deletable": true,
    "editable": true
   },
   "outputs": [],
   "source": [
    "df_res2[\"worked\"].plot(kind=\"hist\", color=\"gold\", xlim=(3,8))"
   ]
  },
  {
   "cell_type": "markdown",
   "metadata": {
    "deletable": true,
    "editable": true
   },
   "source": [
    "##### The breakdown of shifts over nurses is much closer to the average than it was in the previous version."
   ]
  },
  {
   "cell_type": "markdown",
   "metadata": {
    "deletable": true,
    "editable": true
   },
   "source": [
    "### But what would be the minimal fairness level?\n",
    "\n",
    "But what is the absolute minimum for the deviation to the ideal average number of shifts?\n",
    "CPLEX can tell us: simply minimize only the the total deviation from average, ignoring the salary cost.\n",
    "Of course this is unrealistic, but it will help us quantify how far our fairness result is to the\n",
    "absolute optimal fairness.\n",
    "\n",
    "We modify the objective and solve for the third time (using the usual necessary update for DOcplexcloud credentials)."
   ]
  },
  {
   "cell_type": "code",
   "execution_count": null,
   "metadata": {
    "collapsed": false,
    "deletable": true,
    "editable": true
   },
   "outputs": [],
   "source": [
    "mdl.minimize(total_overw + total_underw)\n",
    "assert mdl.solve(url=url, key=key), \"solve failed\"\n",
    "mdl.report()"
   ]
  },
  {
   "cell_type": "markdown",
   "metadata": {
    "deletable": true,
    "editable": true
   },
   "source": [
    "In the fairness-optimal solution, we have zero under-average shifts and 4 over-average.\n",
    "Salary cost is now higher than the previous value of 28884 but this was expected as salary cost was not part of the objective.\n",
    "\n",
    "To summarize, the absolute minimum for this measure of fairness is 4, and we have found a balance with fairness=7.\n",
    "\n",
    "Finally, we display the histogram for this optimal-fairness solution."
   ]
  },
  {
   "cell_type": "code",
   "execution_count": null,
   "metadata": {
    "collapsed": false,
    "deletable": true,
    "editable": true
   },
   "outputs": [],
   "source": [
    "# Create a pandas Series containing actual shift assignment decision variables value\n",
    "s_assigned_fair = df_assigned.assigned.apply(lambda v: v.solution_value)\n",
    "\n",
    "# Create a pivot table by (nurses, shifts), using pandas' \"unstack\" method to transform the 'all_shifts' row index\n",
    "#  into columns\n",
    "df_res_fair = s_assigned_fair.unstack(level='all_shifts')\n",
    "\n",
    "# Add a new column to the pivot table containing the #shifts worked by summing over each row\n",
    "df_res_fair[\"solution_value_fair\"] = df_res_fair[all_shifts].sum(axis=1)\n",
    "df_res_fair[\"worked\"] = df_res_fair[all_shifts].sum(axis=1)\n",
    "df_res_fair[\"worked\"].plot.hist(color=\"plum\", xlim=(3,8))"
   ]
  },
  {
   "cell_type": "markdown",
   "metadata": {
    "deletable": true,
    "editable": true
   },
   "source": [
    "In the above figure, all nurses but one are assigned the average of 7 shifts, which is what we expected.\n",
    "\n",
    "## Summary\n",
    "\n",
    "You learned how to set up and use IBM Decision Optimization CPLEX Modeling for Python to formulate a Mathematical Programming model and solve it with IBM Decision Optimization on Cloud."
   ]
  },
  {
   "cell_type": "markdown",
   "metadata": {
    "deletable": true,
    "editable": true
   },
   "source": [
    "## References\n",
    " <a href=\"https://rawgit.com/IBMDecisionOptimization/docplex-doc/master/docs/index.html\" target=\"_blank\" rel=\"noopener noreferrer\">CPLEX Modeling for Python documentation</a>\n",
    "* <a href=\"https://developer.ibm.com/docloud/\" target=\"_blank\" rel=\"noopener noreferrer\">Decision Optimization on Cloud</a>\n",
    "* Need help with DOcplex or to report a bug? Please go <a href=\"https://developer.ibm.com/answers/smartspace/docloud\" target=\"_blank\" rel=\"noopener noreferrer\">here</a>.\n",
    "* Contact us at dofeedback@wwpdl.vnet.ibm.com."
   ]
  },
  {
   "cell_type": "markdown",
   "metadata": {
    "deletable": true,
    "editable": true
   },
   "source": [
    "Copyright © 2017, 2018 IBM. This notebook and its source code are released under the terms of the MIT License."
   ]
  },
  {
   "cell_type": "code",
   "execution_count": null,
   "metadata": {
    "collapsed": true,
    "deletable": true,
    "editable": true
   },
   "outputs": [],
   "source": []
  }
 ],
 "metadata": {
  "kernelspec": {
   "display_name": "Python2.7 with DSX Spark 2.0.2",
   "language": "python",
   "name": "python2"
  },
  "language_info": {
   "codemirror_mode": {
    "name": "ipython",
    "version": 2
   },
   "file_extension": ".py",
   "mimetype": "text/x-python",
   "name": "python",
   "nbconvert_exporter": "python",
   "pygments_lexer": "ipython2",
   "version": "2.7.13"
  }
 },
 "nbformat": 4,
 "nbformat_minor": 1
}
